{
 "cells": [
  {
   "cell_type": "code",
   "execution_count": 56,
   "id": "5fbc40e1",
   "metadata": {},
   "outputs": [],
   "source": [
    "d={\n",
    "    'Example':['Green','Green','Brown','Orange','Green','Green','Orange'],\n",
    "    'Toughness':['Hard','Hard','Soft','Hard','Soft','Hard','Hard'],\n",
    "    'Fungus':['No','Yes','No','No','Yes','Yes','No'],\n",
    "    'Appearence':['Wrinkled','Smooth','Wrinkled','Wrinkled','Smooth','Wrinkled','Wrinkled'],\n",
    "    'Poisonous':['Yes','No','No','Yes','Yes','Yes','Yes']\n",
    "}"
   ]
  },
  {
   "cell_type": "code",
   "execution_count": 2,
   "id": "0d702986",
   "metadata": {},
   "outputs": [],
   "source": [
    "import pandas as pd\n",
    "import numpy as np"
   ]
  },
  {
   "cell_type": "code",
   "execution_count": 57,
   "id": "fc99656c",
   "metadata": {},
   "outputs": [
    {
     "data": {
      "text/html": [
       "<div>\n",
       "<style scoped>\n",
       "    .dataframe tbody tr th:only-of-type {\n",
       "        vertical-align: middle;\n",
       "    }\n",
       "\n",
       "    .dataframe tbody tr th {\n",
       "        vertical-align: top;\n",
       "    }\n",
       "\n",
       "    .dataframe thead th {\n",
       "        text-align: right;\n",
       "    }\n",
       "</style>\n",
       "<table border=\"1\" class=\"dataframe\">\n",
       "  <thead>\n",
       "    <tr style=\"text-align: right;\">\n",
       "      <th></th>\n",
       "      <th>Example</th>\n",
       "      <th>Toughness</th>\n",
       "      <th>Fungus</th>\n",
       "      <th>Appearence</th>\n",
       "      <th>Poisonous</th>\n",
       "    </tr>\n",
       "  </thead>\n",
       "  <tbody>\n",
       "    <tr>\n",
       "      <th>0</th>\n",
       "      <td>Green</td>\n",
       "      <td>Hard</td>\n",
       "      <td>No</td>\n",
       "      <td>Wrinkled</td>\n",
       "      <td>Yes</td>\n",
       "    </tr>\n",
       "    <tr>\n",
       "      <th>1</th>\n",
       "      <td>Green</td>\n",
       "      <td>Hard</td>\n",
       "      <td>Yes</td>\n",
       "      <td>Smooth</td>\n",
       "      <td>No</td>\n",
       "    </tr>\n",
       "    <tr>\n",
       "      <th>2</th>\n",
       "      <td>Brown</td>\n",
       "      <td>Soft</td>\n",
       "      <td>No</td>\n",
       "      <td>Wrinkled</td>\n",
       "      <td>No</td>\n",
       "    </tr>\n",
       "    <tr>\n",
       "      <th>3</th>\n",
       "      <td>Orange</td>\n",
       "      <td>Hard</td>\n",
       "      <td>No</td>\n",
       "      <td>Wrinkled</td>\n",
       "      <td>Yes</td>\n",
       "    </tr>\n",
       "    <tr>\n",
       "      <th>4</th>\n",
       "      <td>Green</td>\n",
       "      <td>Soft</td>\n",
       "      <td>Yes</td>\n",
       "      <td>Smooth</td>\n",
       "      <td>Yes</td>\n",
       "    </tr>\n",
       "    <tr>\n",
       "      <th>5</th>\n",
       "      <td>Green</td>\n",
       "      <td>Hard</td>\n",
       "      <td>Yes</td>\n",
       "      <td>Wrinkled</td>\n",
       "      <td>Yes</td>\n",
       "    </tr>\n",
       "    <tr>\n",
       "      <th>6</th>\n",
       "      <td>Orange</td>\n",
       "      <td>Hard</td>\n",
       "      <td>No</td>\n",
       "      <td>Wrinkled</td>\n",
       "      <td>Yes</td>\n",
       "    </tr>\n",
       "  </tbody>\n",
       "</table>\n",
       "</div>"
      ],
      "text/plain": [
       "  Example Toughness Fungus Appearence Poisonous\n",
       "0   Green      Hard     No   Wrinkled       Yes\n",
       "1   Green      Hard    Yes     Smooth        No\n",
       "2   Brown      Soft     No   Wrinkled        No\n",
       "3  Orange      Hard     No   Wrinkled       Yes\n",
       "4   Green      Soft    Yes     Smooth       Yes\n",
       "5   Green      Hard    Yes   Wrinkled       Yes\n",
       "6  Orange      Hard     No   Wrinkled       Yes"
      ]
     },
     "execution_count": 57,
     "metadata": {},
     "output_type": "execute_result"
    }
   ],
   "source": [
    "data = pd.DataFrame(d)\n",
    "data"
   ]
  },
  {
   "cell_type": "code",
   "execution_count": 58,
   "id": "b7266857",
   "metadata": {},
   "outputs": [
    {
     "data": {
      "text/html": [
       "<div>\n",
       "<style scoped>\n",
       "    .dataframe tbody tr th:only-of-type {\n",
       "        vertical-align: middle;\n",
       "    }\n",
       "\n",
       "    .dataframe tbody tr th {\n",
       "        vertical-align: top;\n",
       "    }\n",
       "\n",
       "    .dataframe thead th {\n",
       "        text-align: right;\n",
       "    }\n",
       "</style>\n",
       "<table border=\"1\" class=\"dataframe\">\n",
       "  <thead>\n",
       "    <tr style=\"text-align: right;\">\n",
       "      <th></th>\n",
       "      <th>Example</th>\n",
       "      <th>Toughness</th>\n",
       "      <th>Fungus</th>\n",
       "      <th>Appearence</th>\n",
       "      <th>Poisonous</th>\n",
       "    </tr>\n",
       "  </thead>\n",
       "  <tbody>\n",
       "    <tr>\n",
       "      <th>0</th>\n",
       "      <td>Green</td>\n",
       "      <td>Hard</td>\n",
       "      <td>No</td>\n",
       "      <td>Wrinkled</td>\n",
       "      <td>Yes</td>\n",
       "    </tr>\n",
       "    <tr>\n",
       "      <th>3</th>\n",
       "      <td>Orange</td>\n",
       "      <td>Hard</td>\n",
       "      <td>No</td>\n",
       "      <td>Wrinkled</td>\n",
       "      <td>Yes</td>\n",
       "    </tr>\n",
       "    <tr>\n",
       "      <th>4</th>\n",
       "      <td>Green</td>\n",
       "      <td>Soft</td>\n",
       "      <td>Yes</td>\n",
       "      <td>Smooth</td>\n",
       "      <td>Yes</td>\n",
       "    </tr>\n",
       "    <tr>\n",
       "      <th>5</th>\n",
       "      <td>Green</td>\n",
       "      <td>Hard</td>\n",
       "      <td>Yes</td>\n",
       "      <td>Wrinkled</td>\n",
       "      <td>Yes</td>\n",
       "    </tr>\n",
       "    <tr>\n",
       "      <th>6</th>\n",
       "      <td>Orange</td>\n",
       "      <td>Hard</td>\n",
       "      <td>No</td>\n",
       "      <td>Wrinkled</td>\n",
       "      <td>Yes</td>\n",
       "    </tr>\n",
       "  </tbody>\n",
       "</table>\n",
       "</div>"
      ],
      "text/plain": [
       "  Example Toughness Fungus Appearence Poisonous\n",
       "0   Green      Hard     No   Wrinkled       Yes\n",
       "3  Orange      Hard     No   Wrinkled       Yes\n",
       "4   Green      Soft    Yes     Smooth       Yes\n",
       "5   Green      Hard    Yes   Wrinkled       Yes\n",
       "6  Orange      Hard     No   Wrinkled       Yes"
      ]
     },
     "execution_count": 58,
     "metadata": {},
     "output_type": "execute_result"
    }
   ],
   "source": [
    "d1 = data[data['Poisonous']=='Yes']\n",
    "d1"
   ]
  },
  {
   "cell_type": "code",
   "execution_count": 59,
   "id": "6ce2646f",
   "metadata": {},
   "outputs": [
    {
     "name": "stdout",
     "output_type": "stream",
     "text": [
      "['?', '?', '?', '?']\n"
     ]
    }
   ],
   "source": [
    "s = [None for j in d1][:-1]\n",
    "for i in d1.index:\n",
    "    s1 = []\n",
    "    for j in d1:\n",
    "        s1.append(d1[j][i])\n",
    "    for i in range(len(s)):\n",
    "        if s[i] == None:\n",
    "            s[i] = s1[i]\n",
    "        elif s[i] != s1[i]:\n",
    "            s[i] = '?'\n",
    "print(s)"
   ]
  },
  {
   "cell_type": "code",
   "execution_count": null,
   "id": "2bbe26e5",
   "metadata": {},
   "outputs": [],
   "source": []
  }
 ],
 "metadata": {
  "kernelspec": {
   "display_name": "Python 3 (ipykernel)",
   "language": "python",
   "name": "python3"
  },
  "language_info": {
   "codemirror_mode": {
    "name": "ipython",
    "version": 3
   },
   "file_extension": ".py",
   "mimetype": "text/x-python",
   "name": "python",
   "nbconvert_exporter": "python",
   "pygments_lexer": "ipython3",
   "version": "3.9.7"
  }
 },
 "nbformat": 4,
 "nbformat_minor": 5
}
